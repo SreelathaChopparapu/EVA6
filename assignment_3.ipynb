{
  "nbformat": 4,
  "nbformat_minor": 0,
  "metadata": {
    "colab": {
      "name": "assignment_3.ipynb",
      "provenance": [],
      "collapsed_sections": [],
      "toc_visible": true,
      "include_colab_link": true
    },
    "kernelspec": {
      "display_name": "Python 3",
      "name": "python3"
    },
    "language_info": {
      "name": "python"
    },
    "accelerator": "GPU",
    "widgets": {
      "application/vnd.jupyter.widget-state+json": {
        "e66b12bb9d794a8fa6d68ae5c4963dfe": {
          "model_module": "@jupyter-widgets/controls",
          "model_name": "HBoxModel",
          "state": {
            "_view_name": "HBoxView",
            "_dom_classes": [],
            "_model_name": "HBoxModel",
            "_view_module": "@jupyter-widgets/controls",
            "_model_module_version": "1.5.0",
            "_view_count": null,
            "_view_module_version": "1.5.0",
            "box_style": "",
            "layout": "IPY_MODEL_ad69403ebc0643c9b83bac607c191b23",
            "_model_module": "@jupyter-widgets/controls",
            "children": [
              "IPY_MODEL_4c794879ec7b462c829adddb154b3749",
              "IPY_MODEL_86c616a3a1cd442080e9a48faa0f27da"
            ]
          }
        },
        "ad69403ebc0643c9b83bac607c191b23": {
          "model_module": "@jupyter-widgets/base",
          "model_name": "LayoutModel",
          "state": {
            "_view_name": "LayoutView",
            "grid_template_rows": null,
            "right": null,
            "justify_content": null,
            "_view_module": "@jupyter-widgets/base",
            "overflow": null,
            "_model_module_version": "1.2.0",
            "_view_count": null,
            "flex_flow": null,
            "width": null,
            "min_width": null,
            "border": null,
            "align_items": null,
            "bottom": null,
            "_model_module": "@jupyter-widgets/base",
            "top": null,
            "grid_column": null,
            "overflow_y": null,
            "overflow_x": null,
            "grid_auto_flow": null,
            "grid_area": null,
            "grid_template_columns": null,
            "flex": null,
            "_model_name": "LayoutModel",
            "justify_items": null,
            "grid_row": null,
            "max_height": null,
            "align_content": null,
            "visibility": null,
            "align_self": null,
            "height": null,
            "min_height": null,
            "padding": null,
            "grid_auto_rows": null,
            "grid_gap": null,
            "max_width": null,
            "order": null,
            "_view_module_version": "1.2.0",
            "grid_template_areas": null,
            "object_position": null,
            "object_fit": null,
            "grid_auto_columns": null,
            "margin": null,
            "display": null,
            "left": null
          }
        },
        "4c794879ec7b462c829adddb154b3749": {
          "model_module": "@jupyter-widgets/controls",
          "model_name": "FloatProgressModel",
          "state": {
            "_view_name": "ProgressView",
            "style": "IPY_MODEL_33d83106f68f4f45a65585df879caa7c",
            "_dom_classes": [],
            "description": "",
            "_model_name": "FloatProgressModel",
            "bar_style": "success",
            "max": 9912422,
            "_view_module": "@jupyter-widgets/controls",
            "_model_module_version": "1.5.0",
            "value": 9912422,
            "_view_count": null,
            "_view_module_version": "1.5.0",
            "orientation": "horizontal",
            "min": 0,
            "description_tooltip": null,
            "_model_module": "@jupyter-widgets/controls",
            "layout": "IPY_MODEL_87cc3903982f47efa168ccd6fae43795"
          }
        },
        "86c616a3a1cd442080e9a48faa0f27da": {
          "model_module": "@jupyter-widgets/controls",
          "model_name": "HTMLModel",
          "state": {
            "_view_name": "HTMLView",
            "style": "IPY_MODEL_4b1c0c8ccbc84fc2a6ce80fffb5433fa",
            "_dom_classes": [],
            "description": "",
            "_model_name": "HTMLModel",
            "placeholder": "​",
            "_view_module": "@jupyter-widgets/controls",
            "_model_module_version": "1.5.0",
            "value": " 9913344/? [15:41&lt;00:00, 10531.71it/s]",
            "_view_count": null,
            "_view_module_version": "1.5.0",
            "description_tooltip": null,
            "_model_module": "@jupyter-widgets/controls",
            "layout": "IPY_MODEL_ae95a44998eb41719c6627bef00a5603"
          }
        },
        "33d83106f68f4f45a65585df879caa7c": {
          "model_module": "@jupyter-widgets/controls",
          "model_name": "ProgressStyleModel",
          "state": {
            "_view_name": "StyleView",
            "_model_name": "ProgressStyleModel",
            "description_width": "initial",
            "_view_module": "@jupyter-widgets/base",
            "_model_module_version": "1.5.0",
            "_view_count": null,
            "_view_module_version": "1.2.0",
            "bar_color": null,
            "_model_module": "@jupyter-widgets/controls"
          }
        },
        "87cc3903982f47efa168ccd6fae43795": {
          "model_module": "@jupyter-widgets/base",
          "model_name": "LayoutModel",
          "state": {
            "_view_name": "LayoutView",
            "grid_template_rows": null,
            "right": null,
            "justify_content": null,
            "_view_module": "@jupyter-widgets/base",
            "overflow": null,
            "_model_module_version": "1.2.0",
            "_view_count": null,
            "flex_flow": null,
            "width": null,
            "min_width": null,
            "border": null,
            "align_items": null,
            "bottom": null,
            "_model_module": "@jupyter-widgets/base",
            "top": null,
            "grid_column": null,
            "overflow_y": null,
            "overflow_x": null,
            "grid_auto_flow": null,
            "grid_area": null,
            "grid_template_columns": null,
            "flex": null,
            "_model_name": "LayoutModel",
            "justify_items": null,
            "grid_row": null,
            "max_height": null,
            "align_content": null,
            "visibility": null,
            "align_self": null,
            "height": null,
            "min_height": null,
            "padding": null,
            "grid_auto_rows": null,
            "grid_gap": null,
            "max_width": null,
            "order": null,
            "_view_module_version": "1.2.0",
            "grid_template_areas": null,
            "object_position": null,
            "object_fit": null,
            "grid_auto_columns": null,
            "margin": null,
            "display": null,
            "left": null
          }
        },
        "4b1c0c8ccbc84fc2a6ce80fffb5433fa": {
          "model_module": "@jupyter-widgets/controls",
          "model_name": "DescriptionStyleModel",
          "state": {
            "_view_name": "StyleView",
            "_model_name": "DescriptionStyleModel",
            "description_width": "",
            "_view_module": "@jupyter-widgets/base",
            "_model_module_version": "1.5.0",
            "_view_count": null,
            "_view_module_version": "1.2.0",
            "_model_module": "@jupyter-widgets/controls"
          }
        },
        "ae95a44998eb41719c6627bef00a5603": {
          "model_module": "@jupyter-widgets/base",
          "model_name": "LayoutModel",
          "state": {
            "_view_name": "LayoutView",
            "grid_template_rows": null,
            "right": null,
            "justify_content": null,
            "_view_module": "@jupyter-widgets/base",
            "overflow": null,
            "_model_module_version": "1.2.0",
            "_view_count": null,
            "flex_flow": null,
            "width": null,
            "min_width": null,
            "border": null,
            "align_items": null,
            "bottom": null,
            "_model_module": "@jupyter-widgets/base",
            "top": null,
            "grid_column": null,
            "overflow_y": null,
            "overflow_x": null,
            "grid_auto_flow": null,
            "grid_area": null,
            "grid_template_columns": null,
            "flex": null,
            "_model_name": "LayoutModel",
            "justify_items": null,
            "grid_row": null,
            "max_height": null,
            "align_content": null,
            "visibility": null,
            "align_self": null,
            "height": null,
            "min_height": null,
            "padding": null,
            "grid_auto_rows": null,
            "grid_gap": null,
            "max_width": null,
            "order": null,
            "_view_module_version": "1.2.0",
            "grid_template_areas": null,
            "object_position": null,
            "object_fit": null,
            "grid_auto_columns": null,
            "margin": null,
            "display": null,
            "left": null
          }
        },
        "2a45764304a043ffa32e2d2182911e88": {
          "model_module": "@jupyter-widgets/controls",
          "model_name": "HBoxModel",
          "state": {
            "_view_name": "HBoxView",
            "_dom_classes": [],
            "_model_name": "HBoxModel",
            "_view_module": "@jupyter-widgets/controls",
            "_model_module_version": "1.5.0",
            "_view_count": null,
            "_view_module_version": "1.5.0",
            "box_style": "",
            "layout": "IPY_MODEL_874a770b6f9e44179e48457e3e6d73a3",
            "_model_module": "@jupyter-widgets/controls",
            "children": [
              "IPY_MODEL_2e66b53a1dd944b0b47a2f64ae9f7365",
              "IPY_MODEL_66237144d36d4d2981c38c36f209f804"
            ]
          }
        },
        "874a770b6f9e44179e48457e3e6d73a3": {
          "model_module": "@jupyter-widgets/base",
          "model_name": "LayoutModel",
          "state": {
            "_view_name": "LayoutView",
            "grid_template_rows": null,
            "right": null,
            "justify_content": null,
            "_view_module": "@jupyter-widgets/base",
            "overflow": null,
            "_model_module_version": "1.2.0",
            "_view_count": null,
            "flex_flow": null,
            "width": null,
            "min_width": null,
            "border": null,
            "align_items": null,
            "bottom": null,
            "_model_module": "@jupyter-widgets/base",
            "top": null,
            "grid_column": null,
            "overflow_y": null,
            "overflow_x": null,
            "grid_auto_flow": null,
            "grid_area": null,
            "grid_template_columns": null,
            "flex": null,
            "_model_name": "LayoutModel",
            "justify_items": null,
            "grid_row": null,
            "max_height": null,
            "align_content": null,
            "visibility": null,
            "align_self": null,
            "height": null,
            "min_height": null,
            "padding": null,
            "grid_auto_rows": null,
            "grid_gap": null,
            "max_width": null,
            "order": null,
            "_view_module_version": "1.2.0",
            "grid_template_areas": null,
            "object_position": null,
            "object_fit": null,
            "grid_auto_columns": null,
            "margin": null,
            "display": null,
            "left": null
          }
        },
        "2e66b53a1dd944b0b47a2f64ae9f7365": {
          "model_module": "@jupyter-widgets/controls",
          "model_name": "FloatProgressModel",
          "state": {
            "_view_name": "ProgressView",
            "style": "IPY_MODEL_c57ed575e7454b6598674926c462d3a4",
            "_dom_classes": [],
            "description": "",
            "_model_name": "FloatProgressModel",
            "bar_style": "success",
            "max": 28881,
            "_view_module": "@jupyter-widgets/controls",
            "_model_module_version": "1.5.0",
            "value": 28881,
            "_view_count": null,
            "_view_module_version": "1.5.0",
            "orientation": "horizontal",
            "min": 0,
            "description_tooltip": null,
            "_model_module": "@jupyter-widgets/controls",
            "layout": "IPY_MODEL_e139a536612344b692173484b5a62332"
          }
        },
        "66237144d36d4d2981c38c36f209f804": {
          "model_module": "@jupyter-widgets/controls",
          "model_name": "HTMLModel",
          "state": {
            "_view_name": "HTMLView",
            "style": "IPY_MODEL_4e2528413e9948ce9f669ea40a776440",
            "_dom_classes": [],
            "description": "",
            "_model_name": "HTMLModel",
            "placeholder": "​",
            "_view_module": "@jupyter-widgets/controls",
            "_model_module_version": "1.5.0",
            "value": " 29696/? [10:56&lt;00:00, 45.26it/s]",
            "_view_count": null,
            "_view_module_version": "1.5.0",
            "description_tooltip": null,
            "_model_module": "@jupyter-widgets/controls",
            "layout": "IPY_MODEL_41863c052a6948caac0749c222f020eb"
          }
        },
        "c57ed575e7454b6598674926c462d3a4": {
          "model_module": "@jupyter-widgets/controls",
          "model_name": "ProgressStyleModel",
          "state": {
            "_view_name": "StyleView",
            "_model_name": "ProgressStyleModel",
            "description_width": "initial",
            "_view_module": "@jupyter-widgets/base",
            "_model_module_version": "1.5.0",
            "_view_count": null,
            "_view_module_version": "1.2.0",
            "bar_color": null,
            "_model_module": "@jupyter-widgets/controls"
          }
        },
        "e139a536612344b692173484b5a62332": {
          "model_module": "@jupyter-widgets/base",
          "model_name": "LayoutModel",
          "state": {
            "_view_name": "LayoutView",
            "grid_template_rows": null,
            "right": null,
            "justify_content": null,
            "_view_module": "@jupyter-widgets/base",
            "overflow": null,
            "_model_module_version": "1.2.0",
            "_view_count": null,
            "flex_flow": null,
            "width": null,
            "min_width": null,
            "border": null,
            "align_items": null,
            "bottom": null,
            "_model_module": "@jupyter-widgets/base",
            "top": null,
            "grid_column": null,
            "overflow_y": null,
            "overflow_x": null,
            "grid_auto_flow": null,
            "grid_area": null,
            "grid_template_columns": null,
            "flex": null,
            "_model_name": "LayoutModel",
            "justify_items": null,
            "grid_row": null,
            "max_height": null,
            "align_content": null,
            "visibility": null,
            "align_self": null,
            "height": null,
            "min_height": null,
            "padding": null,
            "grid_auto_rows": null,
            "grid_gap": null,
            "max_width": null,
            "order": null,
            "_view_module_version": "1.2.0",
            "grid_template_areas": null,
            "object_position": null,
            "object_fit": null,
            "grid_auto_columns": null,
            "margin": null,
            "display": null,
            "left": null
          }
        },
        "4e2528413e9948ce9f669ea40a776440": {
          "model_module": "@jupyter-widgets/controls",
          "model_name": "DescriptionStyleModel",
          "state": {
            "_view_name": "StyleView",
            "_model_name": "DescriptionStyleModel",
            "description_width": "",
            "_view_module": "@jupyter-widgets/base",
            "_model_module_version": "1.5.0",
            "_view_count": null,
            "_view_module_version": "1.2.0",
            "_model_module": "@jupyter-widgets/controls"
          }
        },
        "41863c052a6948caac0749c222f020eb": {
          "model_module": "@jupyter-widgets/base",
          "model_name": "LayoutModel",
          "state": {
            "_view_name": "LayoutView",
            "grid_template_rows": null,
            "right": null,
            "justify_content": null,
            "_view_module": "@jupyter-widgets/base",
            "overflow": null,
            "_model_module_version": "1.2.0",
            "_view_count": null,
            "flex_flow": null,
            "width": null,
            "min_width": null,
            "border": null,
            "align_items": null,
            "bottom": null,
            "_model_module": "@jupyter-widgets/base",
            "top": null,
            "grid_column": null,
            "overflow_y": null,
            "overflow_x": null,
            "grid_auto_flow": null,
            "grid_area": null,
            "grid_template_columns": null,
            "flex": null,
            "_model_name": "LayoutModel",
            "justify_items": null,
            "grid_row": null,
            "max_height": null,
            "align_content": null,
            "visibility": null,
            "align_self": null,
            "height": null,
            "min_height": null,
            "padding": null,
            "grid_auto_rows": null,
            "grid_gap": null,
            "max_width": null,
            "order": null,
            "_view_module_version": "1.2.0",
            "grid_template_areas": null,
            "object_position": null,
            "object_fit": null,
            "grid_auto_columns": null,
            "margin": null,
            "display": null,
            "left": null
          }
        },
        "0a862a1d11b84ba5823f4db330519306": {
          "model_module": "@jupyter-widgets/controls",
          "model_name": "HBoxModel",
          "state": {
            "_view_name": "HBoxView",
            "_dom_classes": [],
            "_model_name": "HBoxModel",
            "_view_module": "@jupyter-widgets/controls",
            "_model_module_version": "1.5.0",
            "_view_count": null,
            "_view_module_version": "1.5.0",
            "box_style": "",
            "layout": "IPY_MODEL_fe24d642910048769b49758066398075",
            "_model_module": "@jupyter-widgets/controls",
            "children": [
              "IPY_MODEL_9532e080cd7e434088b76d9467b7529f",
              "IPY_MODEL_cd8060d6c648438db4337808d47e18aa"
            ]
          }
        },
        "fe24d642910048769b49758066398075": {
          "model_module": "@jupyter-widgets/base",
          "model_name": "LayoutModel",
          "state": {
            "_view_name": "LayoutView",
            "grid_template_rows": null,
            "right": null,
            "justify_content": null,
            "_view_module": "@jupyter-widgets/base",
            "overflow": null,
            "_model_module_version": "1.2.0",
            "_view_count": null,
            "flex_flow": null,
            "width": null,
            "min_width": null,
            "border": null,
            "align_items": null,
            "bottom": null,
            "_model_module": "@jupyter-widgets/base",
            "top": null,
            "grid_column": null,
            "overflow_y": null,
            "overflow_x": null,
            "grid_auto_flow": null,
            "grid_area": null,
            "grid_template_columns": null,
            "flex": null,
            "_model_name": "LayoutModel",
            "justify_items": null,
            "grid_row": null,
            "max_height": null,
            "align_content": null,
            "visibility": null,
            "align_self": null,
            "height": null,
            "min_height": null,
            "padding": null,
            "grid_auto_rows": null,
            "grid_gap": null,
            "max_width": null,
            "order": null,
            "_view_module_version": "1.2.0",
            "grid_template_areas": null,
            "object_position": null,
            "object_fit": null,
            "grid_auto_columns": null,
            "margin": null,
            "display": null,
            "left": null
          }
        },
        "9532e080cd7e434088b76d9467b7529f": {
          "model_module": "@jupyter-widgets/controls",
          "model_name": "FloatProgressModel",
          "state": {
            "_view_name": "ProgressView",
            "style": "IPY_MODEL_74d65232f46f47938421a9e676401049",
            "_dom_classes": [],
            "description": "",
            "_model_name": "FloatProgressModel",
            "bar_style": "success",
            "max": 1648877,
            "_view_module": "@jupyter-widgets/controls",
            "_model_module_version": "1.5.0",
            "value": 1648877,
            "_view_count": null,
            "_view_module_version": "1.5.0",
            "orientation": "horizontal",
            "min": 0,
            "description_tooltip": null,
            "_model_module": "@jupyter-widgets/controls",
            "layout": "IPY_MODEL_e110d89da73c46e0a529da392ce2e0e5"
          }
        },
        "cd8060d6c648438db4337808d47e18aa": {
          "model_module": "@jupyter-widgets/controls",
          "model_name": "HTMLModel",
          "state": {
            "_view_name": "HTMLView",
            "style": "IPY_MODEL_98c575efcbad450db2454868d89d866c",
            "_dom_classes": [],
            "description": "",
            "_model_name": "HTMLModel",
            "placeholder": "​",
            "_view_module": "@jupyter-widgets/controls",
            "_model_module_version": "1.5.0",
            "value": " 1649664/? [00:48&lt;00:00, 34300.59it/s]",
            "_view_count": null,
            "_view_module_version": "1.5.0",
            "description_tooltip": null,
            "_model_module": "@jupyter-widgets/controls",
            "layout": "IPY_MODEL_75d29aca6f634a9bbabb13e31967d6e0"
          }
        },
        "74d65232f46f47938421a9e676401049": {
          "model_module": "@jupyter-widgets/controls",
          "model_name": "ProgressStyleModel",
          "state": {
            "_view_name": "StyleView",
            "_model_name": "ProgressStyleModel",
            "description_width": "initial",
            "_view_module": "@jupyter-widgets/base",
            "_model_module_version": "1.5.0",
            "_view_count": null,
            "_view_module_version": "1.2.0",
            "bar_color": null,
            "_model_module": "@jupyter-widgets/controls"
          }
        },
        "e110d89da73c46e0a529da392ce2e0e5": {
          "model_module": "@jupyter-widgets/base",
          "model_name": "LayoutModel",
          "state": {
            "_view_name": "LayoutView",
            "grid_template_rows": null,
            "right": null,
            "justify_content": null,
            "_view_module": "@jupyter-widgets/base",
            "overflow": null,
            "_model_module_version": "1.2.0",
            "_view_count": null,
            "flex_flow": null,
            "width": null,
            "min_width": null,
            "border": null,
            "align_items": null,
            "bottom": null,
            "_model_module": "@jupyter-widgets/base",
            "top": null,
            "grid_column": null,
            "overflow_y": null,
            "overflow_x": null,
            "grid_auto_flow": null,
            "grid_area": null,
            "grid_template_columns": null,
            "flex": null,
            "_model_name": "LayoutModel",
            "justify_items": null,
            "grid_row": null,
            "max_height": null,
            "align_content": null,
            "visibility": null,
            "align_self": null,
            "height": null,
            "min_height": null,
            "padding": null,
            "grid_auto_rows": null,
            "grid_gap": null,
            "max_width": null,
            "order": null,
            "_view_module_version": "1.2.0",
            "grid_template_areas": null,
            "object_position": null,
            "object_fit": null,
            "grid_auto_columns": null,
            "margin": null,
            "display": null,
            "left": null
          }
        },
        "98c575efcbad450db2454868d89d866c": {
          "model_module": "@jupyter-widgets/controls",
          "model_name": "DescriptionStyleModel",
          "state": {
            "_view_name": "StyleView",
            "_model_name": "DescriptionStyleModel",
            "description_width": "",
            "_view_module": "@jupyter-widgets/base",
            "_model_module_version": "1.5.0",
            "_view_count": null,
            "_view_module_version": "1.2.0",
            "_model_module": "@jupyter-widgets/controls"
          }
        },
        "75d29aca6f634a9bbabb13e31967d6e0": {
          "model_module": "@jupyter-widgets/base",
          "model_name": "LayoutModel",
          "state": {
            "_view_name": "LayoutView",
            "grid_template_rows": null,
            "right": null,
            "justify_content": null,
            "_view_module": "@jupyter-widgets/base",
            "overflow": null,
            "_model_module_version": "1.2.0",
            "_view_count": null,
            "flex_flow": null,
            "width": null,
            "min_width": null,
            "border": null,
            "align_items": null,
            "bottom": null,
            "_model_module": "@jupyter-widgets/base",
            "top": null,
            "grid_column": null,
            "overflow_y": null,
            "overflow_x": null,
            "grid_auto_flow": null,
            "grid_area": null,
            "grid_template_columns": null,
            "flex": null,
            "_model_name": "LayoutModel",
            "justify_items": null,
            "grid_row": null,
            "max_height": null,
            "align_content": null,
            "visibility": null,
            "align_self": null,
            "height": null,
            "min_height": null,
            "padding": null,
            "grid_auto_rows": null,
            "grid_gap": null,
            "max_width": null,
            "order": null,
            "_view_module_version": "1.2.0",
            "grid_template_areas": null,
            "object_position": null,
            "object_fit": null,
            "grid_auto_columns": null,
            "margin": null,
            "display": null,
            "left": null
          }
        },
        "4102514e042a4174b2fc67a8cce435db": {
          "model_module": "@jupyter-widgets/controls",
          "model_name": "HBoxModel",
          "state": {
            "_view_name": "HBoxView",
            "_dom_classes": [],
            "_model_name": "HBoxModel",
            "_view_module": "@jupyter-widgets/controls",
            "_model_module_version": "1.5.0",
            "_view_count": null,
            "_view_module_version": "1.5.0",
            "box_style": "",
            "layout": "IPY_MODEL_9f1d8652d043402eacc1c499a85be787",
            "_model_module": "@jupyter-widgets/controls",
            "children": [
              "IPY_MODEL_fed75bdb1b5b47e88f05b57ff493e799",
              "IPY_MODEL_d2adba68d1eb4216a0e47ea503c91143"
            ]
          }
        },
        "9f1d8652d043402eacc1c499a85be787": {
          "model_module": "@jupyter-widgets/base",
          "model_name": "LayoutModel",
          "state": {
            "_view_name": "LayoutView",
            "grid_template_rows": null,
            "right": null,
            "justify_content": null,
            "_view_module": "@jupyter-widgets/base",
            "overflow": null,
            "_model_module_version": "1.2.0",
            "_view_count": null,
            "flex_flow": null,
            "width": null,
            "min_width": null,
            "border": null,
            "align_items": null,
            "bottom": null,
            "_model_module": "@jupyter-widgets/base",
            "top": null,
            "grid_column": null,
            "overflow_y": null,
            "overflow_x": null,
            "grid_auto_flow": null,
            "grid_area": null,
            "grid_template_columns": null,
            "flex": null,
            "_model_name": "LayoutModel",
            "justify_items": null,
            "grid_row": null,
            "max_height": null,
            "align_content": null,
            "visibility": null,
            "align_self": null,
            "height": null,
            "min_height": null,
            "padding": null,
            "grid_auto_rows": null,
            "grid_gap": null,
            "max_width": null,
            "order": null,
            "_view_module_version": "1.2.0",
            "grid_template_areas": null,
            "object_position": null,
            "object_fit": null,
            "grid_auto_columns": null,
            "margin": null,
            "display": null,
            "left": null
          }
        },
        "fed75bdb1b5b47e88f05b57ff493e799": {
          "model_module": "@jupyter-widgets/controls",
          "model_name": "FloatProgressModel",
          "state": {
            "_view_name": "ProgressView",
            "style": "IPY_MODEL_e0402957befe45909ed8c19476aa889e",
            "_dom_classes": [],
            "description": "",
            "_model_name": "FloatProgressModel",
            "bar_style": "success",
            "max": 4542,
            "_view_module": "@jupyter-widgets/controls",
            "_model_module_version": "1.5.0",
            "value": 4542,
            "_view_count": null,
            "_view_module_version": "1.5.0",
            "orientation": "horizontal",
            "min": 0,
            "description_tooltip": null,
            "_model_module": "@jupyter-widgets/controls",
            "layout": "IPY_MODEL_922ea32014444cecb610bd8a70a9f8e9"
          }
        },
        "d2adba68d1eb4216a0e47ea503c91143": {
          "model_module": "@jupyter-widgets/controls",
          "model_name": "HTMLModel",
          "state": {
            "_view_name": "HTMLView",
            "style": "IPY_MODEL_21866209cd0d48e5a06275cfce018347",
            "_dom_classes": [],
            "description": "",
            "_model_name": "HTMLModel",
            "placeholder": "​",
            "_view_module": "@jupyter-widgets/controls",
            "_model_module_version": "1.5.0",
            "value": " 5120/? [00:00&lt;00:00, 17872.60it/s]",
            "_view_count": null,
            "_view_module_version": "1.5.0",
            "description_tooltip": null,
            "_model_module": "@jupyter-widgets/controls",
            "layout": "IPY_MODEL_2a066a6a7e6648f38b36509a965b4cd2"
          }
        },
        "e0402957befe45909ed8c19476aa889e": {
          "model_module": "@jupyter-widgets/controls",
          "model_name": "ProgressStyleModel",
          "state": {
            "_view_name": "StyleView",
            "_model_name": "ProgressStyleModel",
            "description_width": "initial",
            "_view_module": "@jupyter-widgets/base",
            "_model_module_version": "1.5.0",
            "_view_count": null,
            "_view_module_version": "1.2.0",
            "bar_color": null,
            "_model_module": "@jupyter-widgets/controls"
          }
        },
        "922ea32014444cecb610bd8a70a9f8e9": {
          "model_module": "@jupyter-widgets/base",
          "model_name": "LayoutModel",
          "state": {
            "_view_name": "LayoutView",
            "grid_template_rows": null,
            "right": null,
            "justify_content": null,
            "_view_module": "@jupyter-widgets/base",
            "overflow": null,
            "_model_module_version": "1.2.0",
            "_view_count": null,
            "flex_flow": null,
            "width": null,
            "min_width": null,
            "border": null,
            "align_items": null,
            "bottom": null,
            "_model_module": "@jupyter-widgets/base",
            "top": null,
            "grid_column": null,
            "overflow_y": null,
            "overflow_x": null,
            "grid_auto_flow": null,
            "grid_area": null,
            "grid_template_columns": null,
            "flex": null,
            "_model_name": "LayoutModel",
            "justify_items": null,
            "grid_row": null,
            "max_height": null,
            "align_content": null,
            "visibility": null,
            "align_self": null,
            "height": null,
            "min_height": null,
            "padding": null,
            "grid_auto_rows": null,
            "grid_gap": null,
            "max_width": null,
            "order": null,
            "_view_module_version": "1.2.0",
            "grid_template_areas": null,
            "object_position": null,
            "object_fit": null,
            "grid_auto_columns": null,
            "margin": null,
            "display": null,
            "left": null
          }
        },
        "21866209cd0d48e5a06275cfce018347": {
          "model_module": "@jupyter-widgets/controls",
          "model_name": "DescriptionStyleModel",
          "state": {
            "_view_name": "StyleView",
            "_model_name": "DescriptionStyleModel",
            "description_width": "",
            "_view_module": "@jupyter-widgets/base",
            "_model_module_version": "1.5.0",
            "_view_count": null,
            "_view_module_version": "1.2.0",
            "_model_module": "@jupyter-widgets/controls"
          }
        },
        "2a066a6a7e6648f38b36509a965b4cd2": {
          "model_module": "@jupyter-widgets/base",
          "model_name": "LayoutModel",
          "state": {
            "_view_name": "LayoutView",
            "grid_template_rows": null,
            "right": null,
            "justify_content": null,
            "_view_module": "@jupyter-widgets/base",
            "overflow": null,
            "_model_module_version": "1.2.0",
            "_view_count": null,
            "flex_flow": null,
            "width": null,
            "min_width": null,
            "border": null,
            "align_items": null,
            "bottom": null,
            "_model_module": "@jupyter-widgets/base",
            "top": null,
            "grid_column": null,
            "overflow_y": null,
            "overflow_x": null,
            "grid_auto_flow": null,
            "grid_area": null,
            "grid_template_columns": null,
            "flex": null,
            "_model_name": "LayoutModel",
            "justify_items": null,
            "grid_row": null,
            "max_height": null,
            "align_content": null,
            "visibility": null,
            "align_self": null,
            "height": null,
            "min_height": null,
            "padding": null,
            "grid_auto_rows": null,
            "grid_gap": null,
            "max_width": null,
            "order": null,
            "_view_module_version": "1.2.0",
            "grid_template_areas": null,
            "object_position": null,
            "object_fit": null,
            "grid_auto_columns": null,
            "margin": null,
            "display": null,
            "left": null
          }
        }
      }
    }
  },
  "cells": [
    {
      "cell_type": "markdown",
      "metadata": {
        "id": "view-in-github",
        "colab_type": "text"
      },
      "source": [
        "<a href=\"https://colab.research.google.com/github/SreelathaChopparapu/EVA6/blob/main/assignment_3.ipynb\" target=\"_parent\"><img src=\"https://colab.research.google.com/assets/colab-badge.svg\" alt=\"Open In Colab\"/></a>"
      ]
    },
    {
      "cell_type": "markdown",
      "metadata": {
        "id": "zna-7O8yj0Fb"
      },
      "source": [
        "# Problem Statement\n",
        "\n",
        "Create a Neural Network that takes two inputs and produces two outputs as described below :\n",
        "\n",
        "## Inputs :\n",
        "1. Image from MNIST\n",
        "2. Random Integer between 0-9\n",
        "\n",
        "## Outputs :\n",
        "\n",
        "1. MNIST label for the image\n",
        "2. Addition of MNIST Digit & Random Number\n",
        "\n",
        "![picture](https://drive.google.com/file/d/1vJDmSNH6pGrgBsYk19WAQVaBE_C9F0iI/view?usp=sharing)"
      ]
    },
    {
      "cell_type": "code",
      "metadata": {
        "id": "AVbY9RiFvf9T"
      },
      "source": [
        "# Standard Library Imports\n",
        "\n",
        "import torch\n",
        "import torchvision\n",
        "import warnings\n",
        "import torch.nn as nn\n",
        "import torch.nn.functional as F\n",
        "from torch import optim\n",
        "import torchvision.transforms as transforms\n",
        "from torch.utils.data.dataset import random_split\n",
        "import matplotlib.pyplot as plt\n",
        "from numpy.random import randint\n",
        "\n",
        "\n",
        "warnings.filterwarnings('ignore')\n"
      ],
      "execution_count": 2,
      "outputs": []
    },
    {
      "cell_type": "markdown",
      "metadata": {
        "id": "5khE2WrmlEAh"
      },
      "source": [
        "## Dataset Loader"
      ]
    },
    {
      "cell_type": "code",
      "metadata": {
        "id": "iNa-5Y4xtnI1",
        "colab": {
          "base_uri": "https://localhost:8080/",
          "height": 576,
          "referenced_widgets": [
            "e66b12bb9d794a8fa6d68ae5c4963dfe",
            "ad69403ebc0643c9b83bac607c191b23",
            "4c794879ec7b462c829adddb154b3749",
            "86c616a3a1cd442080e9a48faa0f27da",
            "33d83106f68f4f45a65585df879caa7c",
            "87cc3903982f47efa168ccd6fae43795",
            "4b1c0c8ccbc84fc2a6ce80fffb5433fa",
            "ae95a44998eb41719c6627bef00a5603",
            "2a45764304a043ffa32e2d2182911e88",
            "874a770b6f9e44179e48457e3e6d73a3",
            "2e66b53a1dd944b0b47a2f64ae9f7365",
            "66237144d36d4d2981c38c36f209f804",
            "c57ed575e7454b6598674926c462d3a4",
            "e139a536612344b692173484b5a62332",
            "4e2528413e9948ce9f669ea40a776440",
            "41863c052a6948caac0749c222f020eb",
            "0a862a1d11b84ba5823f4db330519306",
            "fe24d642910048769b49758066398075",
            "9532e080cd7e434088b76d9467b7529f",
            "cd8060d6c648438db4337808d47e18aa",
            "74d65232f46f47938421a9e676401049",
            "e110d89da73c46e0a529da392ce2e0e5",
            "98c575efcbad450db2454868d89d866c",
            "75d29aca6f634a9bbabb13e31967d6e0",
            "4102514e042a4174b2fc67a8cce435db",
            "9f1d8652d043402eacc1c499a85be787",
            "fed75bdb1b5b47e88f05b57ff493e799",
            "d2adba68d1eb4216a0e47ea503c91143",
            "e0402957befe45909ed8c19476aa889e",
            "922ea32014444cecb610bd8a70a9f8e9",
            "21866209cd0d48e5a06275cfce018347",
            "2a066a6a7e6648f38b36509a965b4cd2"
          ]
        },
        "outputId": "1fb68057-29ae-413c-b0e3-dd3d7a73fa11"
      },
      "source": [
        "# Download MNIST Training\n",
        "dataset = torchvision.datasets.MNIST(root= './data',\n",
        "                                       train= True,\n",
        "                                       download= True,\n",
        "                                       transform= transforms.Compose([\n",
        "                                                                      transforms.ToTensor()\n",
        "                                       ]))\n",
        "# Download MNIST TEST\n",
        "test_set = torchvision.datasets.MNIST(root='./data',\n",
        "                                      train=False,\n",
        "                                      download=True,\n",
        "                                      transform=transforms.Compose([\n",
        "                                                                    transforms.ToTensor()\n",
        "                                      ]))\n",
        "\n",
        "# Split to 80-20 for train-valid\n",
        "lengths = [int(len(dataset)*0.8), int(len(dataset)*0.2)]\n",
        "train_set, val_set = random_split(dataset, lengths)\n",
        "\n",
        "# Hyper-parameter Initialisation\n",
        "batch_size=128\n",
        "\n",
        "# Load MNIST Train Data Loader\n",
        "train_loader = torch.utils.data.DataLoader(train_set,\n",
        "                                            batch_size= batch_size,\n",
        "                                            shuffle= True,\n",
        "                                            drop_last=True,\n",
        "                                          pin_memory=True)\n",
        "\n",
        "# Load MNIST Validation Data Loader\n",
        "val_loader = torch.utils.data.DataLoader(val_set,\n",
        "                                            batch_size= batch_size,\n",
        "                                            shuffle= True,\n",
        "                                            drop_last=True,\n",
        "                                            pin_memory=True)\n",
        "\n",
        "# Load MNIST Test Data Loader\n",
        "test_loader = torch.utils.data.DataLoader(test_set,\n",
        "                                          batch_size=batch_size,\n",
        "                                          shuffle=True,\n",
        "                                          pin_memory=True,\n",
        "                                          drop_last=True)"
      ],
      "execution_count": 3,
      "outputs": [
        {
          "output_type": "stream",
          "text": [
            "Downloading http://yann.lecun.com/exdb/mnist/train-images-idx3-ubyte.gz\n",
            "Downloading http://yann.lecun.com/exdb/mnist/train-images-idx3-ubyte.gz to ./data/MNIST/raw/train-images-idx3-ubyte.gz\n"
          ],
          "name": "stdout"
        },
        {
          "output_type": "display_data",
          "data": {
            "application/vnd.jupyter.widget-view+json": {
              "model_id": "e66b12bb9d794a8fa6d68ae5c4963dfe",
              "version_minor": 0,
              "version_major": 2
            },
            "text/plain": [
              "HBox(children=(FloatProgress(value=0.0, max=9912422.0), HTML(value='')))"
            ]
          },
          "metadata": {
            "tags": []
          }
        },
        {
          "output_type": "stream",
          "text": [
            "\n",
            "Extracting ./data/MNIST/raw/train-images-idx3-ubyte.gz to ./data/MNIST/raw\n",
            "\n",
            "Downloading http://yann.lecun.com/exdb/mnist/train-labels-idx1-ubyte.gz\n",
            "Downloading http://yann.lecun.com/exdb/mnist/train-labels-idx1-ubyte.gz to ./data/MNIST/raw/train-labels-idx1-ubyte.gz\n"
          ],
          "name": "stdout"
        },
        {
          "output_type": "display_data",
          "data": {
            "application/vnd.jupyter.widget-view+json": {
              "model_id": "2a45764304a043ffa32e2d2182911e88",
              "version_minor": 0,
              "version_major": 2
            },
            "text/plain": [
              "HBox(children=(FloatProgress(value=0.0, max=28881.0), HTML(value='')))"
            ]
          },
          "metadata": {
            "tags": []
          }
        },
        {
          "output_type": "stream",
          "text": [
            "\n",
            "Extracting ./data/MNIST/raw/train-labels-idx1-ubyte.gz to ./data/MNIST/raw\n",
            "\n",
            "Downloading http://yann.lecun.com/exdb/mnist/t10k-images-idx3-ubyte.gz\n",
            "Downloading http://yann.lecun.com/exdb/mnist/t10k-images-idx3-ubyte.gz to ./data/MNIST/raw/t10k-images-idx3-ubyte.gz\n"
          ],
          "name": "stdout"
        },
        {
          "output_type": "display_data",
          "data": {
            "application/vnd.jupyter.widget-view+json": {
              "model_id": "0a862a1d11b84ba5823f4db330519306",
              "version_minor": 0,
              "version_major": 2
            },
            "text/plain": [
              "HBox(children=(FloatProgress(value=0.0, max=1648877.0), HTML(value='')))"
            ]
          },
          "metadata": {
            "tags": []
          }
        },
        {
          "output_type": "stream",
          "text": [
            "\n",
            "Extracting ./data/MNIST/raw/t10k-images-idx3-ubyte.gz to ./data/MNIST/raw\n",
            "\n",
            "Downloading http://yann.lecun.com/exdb/mnist/t10k-labels-idx1-ubyte.gz\n",
            "Downloading http://yann.lecun.com/exdb/mnist/t10k-labels-idx1-ubyte.gz to ./data/MNIST/raw/t10k-labels-idx1-ubyte.gz\n"
          ],
          "name": "stdout"
        },
        {
          "output_type": "display_data",
          "data": {
            "application/vnd.jupyter.widget-view+json": {
              "model_id": "4102514e042a4174b2fc67a8cce435db",
              "version_minor": 0,
              "version_major": 2
            },
            "text/plain": [
              "HBox(children=(FloatProgress(value=0.0, max=4542.0), HTML(value='')))"
            ]
          },
          "metadata": {
            "tags": []
          }
        },
        {
          "output_type": "stream",
          "text": [
            "\n",
            "Extracting ./data/MNIST/raw/t10k-labels-idx1-ubyte.gz to ./data/MNIST/raw\n",
            "\n",
            "Processing...\n",
            "Done!\n"
          ],
          "name": "stdout"
        }
      ]
    },
    {
      "cell_type": "code",
      "metadata": {
        "colab": {
          "base_uri": "https://localhost:8080/"
        },
        "id": "6tXnpWopttHV",
        "outputId": "a63f6ac2-61ec-41b1-ef2d-eebd90149e72"
      },
      "source": [
        "# Check Data for Each Class\n",
        "\n",
        "print(\"Class & Data For Training Set : \")\n",
        "print(dataset.targets.unique())\n",
        "print(dataset.targets.bincount())\n",
        "print()\n",
        "\n",
        "print(\"Class & Data For Test Set : \")\n",
        "print(test_set.targets.unique())\n",
        "print(test_set.targets.bincount())\n"
      ],
      "execution_count": 4,
      "outputs": [
        {
          "output_type": "stream",
          "text": [
            "Class & Data For Training Set : \n",
            "tensor([0, 1, 2, 3, 4, 5, 6, 7, 8, 9])\n",
            "tensor([5923, 6742, 5958, 6131, 5842, 5421, 5918, 6265, 5851, 5949])\n",
            "\n",
            "Class & Data For Test Set : \n",
            "tensor([0, 1, 2, 3, 4, 5, 6, 7, 8, 9])\n",
            "tensor([ 980, 1135, 1032, 1010,  982,  892,  958, 1028,  974, 1009])\n"
          ],
          "name": "stdout"
        }
      ]
    },
    {
      "cell_type": "markdown",
      "metadata": {
        "id": "ZhUwxlo0l_FG"
      },
      "source": [
        "## Model Architecture"
      ]
    },
    {
      "cell_type": "code",
      "metadata": {
        "id": "doFQM9BQtxXW"
      },
      "source": [
        "\n",
        "# Defining the Model Architecture\n",
        "\n",
        "class Network(nn.Module):\n",
        "  def __init__(self):\n",
        "    super().__init__()\n",
        "    self.conv1 = nn.Conv2d(in_channels=1,out_channels=16,kernel_size=3)\n",
        "    self.conv2 = nn.Conv2d(in_channels=16,out_channels=32,kernel_size=3)\n",
        "    self.conv3 = nn.Conv2d(in_channels=32,out_channels=64,kernel_size=3)\n",
        "    self.conv4 = nn.Conv2d(in_channels=64,out_channels=64,kernel_size=3)\n",
        "    self.conv5 = nn.Conv2d(in_channels=64,out_channels=64,kernel_size=3)\n",
        "    \n",
        "    self.pool1 = nn.MaxPool2d(kernel_size=2,stride=2)\n",
        "\n",
        "    self.fcl1 = nn.Linear(in_features=64*7*7,out_features=128)\n",
        "    self.emb1 = nn.Linear(in_features=128,out_features=64)\n",
        "    self.out1 = nn.Linear(in_features=64, out_features=10) # Output of the MNIST Image\n",
        "\n",
        "    self.fcr1 = nn.Linear(in_features=74,out_features=128)\n",
        "    self.emb2 = nn.Linear(in_features=128, out_features=256)\n",
        "    self.out2 = nn.Linear(in_features=256, out_features=19) # Output of the Random Addition\n",
        "\n",
        "  def forward(self,x1, x2):\n",
        "    x1 = F.relu(self.conv2(F.relu(self.conv1(x1))))\n",
        "    x1 = self.pool1(F.relu(self.conv3(x1)))\n",
        "    x1 = F.relu(self.conv5(F.relu(self.conv4(x1))))\n",
        "    x1 = x1.reshape(-1, 64*7*7)\n",
        "    x1 = F.relu(self.fcl1(x1))\n",
        "    x1 = F.relu(self.emb1(x1)) # Penulitmate Layer patterns/weights/embeddings\n",
        "    out1 = self.out1(x1) # MNIST Prediction\n",
        "\n",
        "    # Mix embeddings from the mnist convolutions\n",
        "    combined = torch.cat([x1,x2], dim=1)  # Concatenating the Radom Input along Dim 1\n",
        "\n",
        "    x2 = F.relu(self.fcr1(combined)) # FC layers for learning addition\n",
        "    x2 = F.relu(self.emb2(x2))\n",
        "    out2 = self.out2(x2)\n",
        "   \n",
        "    final_out = torch.cat([out1, out2], dim=1)\n",
        "\n",
        "    return final_out"
      ],
      "execution_count": 5,
      "outputs": []
    },
    {
      "cell_type": "markdown",
      "metadata": {
        "id": "-2cB5h5BoDWZ"
      },
      "source": [
        "### Prediction of Final Layers"
      ]
    },
    {
      "cell_type": "code",
      "metadata": {
        "id": "VSP-fNrPt2vS"
      },
      "source": [
        "## prediction class\n",
        "def class_predicted(preds, num_labels, sum_labels):\n",
        "    num_preds = preds[:, :10]\n",
        "    sum_preds = preds[:, 10:]   \n",
        "    \n",
        "    correct = torch.logical_and(num_preds.argmax(dim=1).eq(num_labels), sum_preds.argmax(dim=1).eq(sum_labels)).sum().item()\n",
        "    \n",
        "    return correct"
      ],
      "execution_count": 6,
      "outputs": []
    },
    {
      "cell_type": "markdown",
      "metadata": {
        "id": "1hVzXtJgmVpi"
      },
      "source": [
        "### Loss Function"
      ]
    },
    {
      "cell_type": "code",
      "metadata": {
        "id": "C4j_Vw7-matV"
      },
      "source": [
        "def custom_loss(preds, img_labels, sum_labels):\n",
        "    num = preds[:, :10]\n",
        "    sum = preds[:, 10:]\n",
        "\n",
        "    num = F.log_softmax(num, dim=1)\n",
        "    sum = F.log_softmax(sum, dim=1)\n",
        "    \n",
        "    num_loss = torch.nn.NLLLoss()(num, img_labels)\n",
        "    sum_loss = torch.nn.NLLLoss()(sum, sum_labels)\n",
        "\n",
        "    loss = num_loss + sum_loss\n",
        "\n",
        "    return loss"
      ],
      "execution_count": 8,
      "outputs": []
    },
    {
      "cell_type": "markdown",
      "metadata": {
        "id": "OQBjsf2Cmczv"
      },
      "source": [
        "### Training Loop"
      ]
    },
    {
      "cell_type": "code",
      "metadata": {
        "id": "thRe4PUlt29k"
      },
      "source": [
        "def train_and_eval(model, train_loader, val_loader, optimizer, criterion, num_epoch, device):\n",
        "  train_losses = []\n",
        "  val_losses = []\n",
        "  for epoch in range(num_epoch):\n",
        "    for split in [\"train\", \"val\"]:\n",
        "        if split == \"train\":\n",
        "            train_loss= 0\n",
        "            train_correct= 0\n",
        "            model.train()\n",
        "            for images, labels in train_loader:\n",
        "                optimizer.zero_grad()\n",
        "\n",
        "                # MNIST Input & Label\n",
        "                images = images.to(device)\n",
        "                labels = labels.to(device)\n",
        "                #   one_hot_labels = F.one_hot(labels, num_classes=10)\n",
        "\n",
        "                # Create Random Number Input & Label \n",
        "                random_num = torch.randint(low=0, high=9, size=(batch_size,))\n",
        "                random_num = random_num.to(device)\n",
        "                random_inp = F.one_hot(random_num, num_classes=10)\n",
        "                random_inp = random_inp.type(torch.float32)\n",
        "                sum_labels = labels + random_num  \n",
        "                #   one_hot_random = F.one_hot(random_labels, num_classes=18)\n",
        "                random_inp = random_inp.to(device)\n",
        "                \n",
        "                # Forward Pass\n",
        "                preds = model(images, random_inp)\n",
        "                loss = criterion(preds, labels, sum_labels)\n",
        "                \n",
        "                optimizer.zero_grad()\n",
        "                loss.backward()\n",
        "                optimizer.step()\n",
        "\n",
        "                train_loss += loss.item()\n",
        "                train_correct += class_predicted(preds, labels, sum_labels)\n",
        "\n",
        "            print(f'Epoch:{epoch}\\t {split.upper()}\\t Correct Prediction:{train_correct}/{int(0.8*len(dataset))} \\t Loss:{train_loss}')\n",
        "            train_losses.append(train_loss)\n",
        "\n",
        "        if split == \"val\":\n",
        "            model.eval()\n",
        "            val_loss = 0\n",
        "            val_correct = 0\n",
        "            for images, labels in val_loader:\n",
        "                # MNIST Input & Label\n",
        "                images = images.to(device)\n",
        "                labels = labels.to(device)\n",
        "                #   one_hot_labels = F.one_hot(labels, num_classes=10)\n",
        "\n",
        "                # Create Random Number Input & Label \n",
        "                random_num = torch.randint(low=0, high=9, size=(batch_size,))\n",
        "                random_num = random_num.to(device)\n",
        "                random_inp = F.one_hot(random_num, num_classes=10)\n",
        "                random_inp = random_inp.type(torch.float32)\n",
        "                sum_labels = labels + random_num  \n",
        "                #   one_hot_random = F.one_hot(random_labels, num_classes=18)\n",
        "                \n",
        "                random_inp = random_inp.to(device)\n",
        "\n",
        "                with torch.no_grad():\n",
        "                    preds = model(images, random_inp)                    \n",
        "                    loss = criterion(preds, labels, sum_labels)\n",
        "\n",
        "                    val_loss += loss.item()\n",
        "                    val_correct += class_predicted(preds, labels, sum_labels)\n",
        "\n",
        "            print(f'Epoch:{epoch}\\t {split.upper()}\\t Correct Prediction:{val_correct}/{int(0.2*len(dataset))} \\t Loss:{val_loss}\\n')\n",
        "            print(\"==\"*10)\n",
        "            val_losses.append(val_loss)\n",
        "\n",
        "  return model, train_losses, val_losses"
      ],
      "execution_count": 9,
      "outputs": []
    },
    {
      "cell_type": "markdown",
      "metadata": {
        "id": "u-ocJ6eYnAnj"
      },
      "source": [
        "## Model Initialisation & Training"
      ]
    },
    {
      "cell_type": "code",
      "metadata": {
        "colab": {
          "base_uri": "https://localhost:8080/"
        },
        "id": "1C9NGP9hm0Lc",
        "outputId": "51b7217c-0e21-4987-f8f9-2ecbaed0968e"
      },
      "source": [
        "# Model Initialisation\n",
        "device = torch.device('cuda:0' if torch.cuda.is_available() else 'cpu')\n",
        "print(device)\n",
        "model= Network()\n",
        "model = model.train()\n",
        "model = model.to(device)\n",
        "\n",
        "print('Is model on GPU? ',next(model.parameters()).is_cuda)   ## check if model is moved to GPU\n",
        "\n",
        "# Hyper-parameter Initialisation\n",
        "batch_size=128\n",
        "lr=0.003\n",
        "num_epoch=20\n",
        "optimizer = optim.Adam(model.parameters(),lr=lr)\n",
        "\n",
        "# Training\n",
        "finalWeights, train_losses, val_losses = train_and_eval(model, train_loader, val_loader, optimizer, custom_loss, num_epoch, device)\n",
        "\n",
        "print(f\"Training Accuracy: {round((47817/48000)*100, 2)}%\")\n",
        "print(f\"Validation Accuracy: {round((11773/12000)*100, 2)}%\")\n"
      ],
      "execution_count": 10,
      "outputs": [
        {
          "output_type": "stream",
          "text": [
            "cuda:0\n",
            "Is model on GPU?  True\n",
            "Epoch:0\t TRAIN\t Correct Prediction:29382/48000 \t Loss:535.6066573411226\n",
            "Epoch:0\t VAL\t Correct Prediction:11503/12000 \t Loss:25.045962162315845\n",
            "\n",
            "====================\n",
            "Epoch:1\t TRAIN\t Correct Prediction:46871/48000 \t Loss:60.121655033901334\n",
            "Epoch:1\t VAL\t Correct Prediction:11601/12000 \t Loss:15.357773197814822\n",
            "\n",
            "====================\n",
            "Epoch:2\t TRAIN\t Correct Prediction:47242/48000 \t Loss:38.52669954672456\n",
            "Epoch:2\t VAL\t Correct Prediction:11662/12000 \t Loss:12.643219413235784\n",
            "\n",
            "====================\n",
            "Epoch:3\t TRAIN\t Correct Prediction:47381/48000 \t Loss:30.353497132426128\n",
            "Epoch:3\t VAL\t Correct Prediction:11617/12000 \t Loss:13.947965221479535\n",
            "\n",
            "====================\n",
            "Epoch:4\t TRAIN\t Correct Prediction:47460/48000 \t Loss:25.46136584575288\n",
            "Epoch:4\t VAL\t Correct Prediction:11674/12000 \t Loss:12.721524040214717\n",
            "\n",
            "====================\n",
            "Epoch:5\t TRAIN\t Correct Prediction:47517/48000 \t Loss:22.65616480866447\n",
            "Epoch:5\t VAL\t Correct Prediction:11702/12000 \t Loss:11.431833983864635\n",
            "\n",
            "====================\n",
            "Epoch:6\t TRAIN\t Correct Prediction:47620/48000 \t Loss:17.590255036833696\n",
            "Epoch:6\t VAL\t Correct Prediction:11707/12000 \t Loss:11.564033062197268\n",
            "\n",
            "====================\n",
            "Epoch:7\t TRAIN\t Correct Prediction:47640/48000 \t Loss:16.796383621636778\n",
            "Epoch:7\t VAL\t Correct Prediction:11758/12000 \t Loss:8.503939510788769\n",
            "\n",
            "====================\n",
            "Epoch:8\t TRAIN\t Correct Prediction:47768/48000 \t Loss:11.02574233111227\n",
            "Epoch:8\t VAL\t Correct Prediction:11720/12000 \t Loss:10.401438868837431\n",
            "\n",
            "====================\n",
            "Epoch:9\t TRAIN\t Correct Prediction:47687/48000 \t Loss:14.63292127137538\n",
            "Epoch:9\t VAL\t Correct Prediction:11645/12000 \t Loss:15.116042620502412\n",
            "\n",
            "====================\n",
            "Epoch:10\t TRAIN\t Correct Prediction:47691/48000 \t Loss:14.487378383986652\n",
            "Epoch:10\t VAL\t Correct Prediction:11678/12000 \t Loss:12.951990923378617\n",
            "\n",
            "====================\n",
            "Epoch:11\t TRAIN\t Correct Prediction:47748/48000 \t Loss:11.834137570927851\n",
            "Epoch:11\t VAL\t Correct Prediction:11752/12000 \t Loss:10.812641919124871\n",
            "\n",
            "====================\n",
            "Epoch:12\t TRAIN\t Correct Prediction:47708/48000 \t Loss:13.082772800320527\n",
            "Epoch:12\t VAL\t Correct Prediction:11709/12000 \t Loss:12.522641229443252\n",
            "\n",
            "====================\n",
            "Epoch:13\t TRAIN\t Correct Prediction:47750/48000 \t Loss:11.056150986580178\n",
            "Epoch:13\t VAL\t Correct Prediction:11711/12000 \t Loss:12.472133493749425\n",
            "\n",
            "====================\n",
            "Epoch:14\t TRAIN\t Correct Prediction:47772/48000 \t Loss:10.987767368205823\n",
            "Epoch:14\t VAL\t Correct Prediction:11751/12000 \t Loss:10.587886122055352\n",
            "\n",
            "====================\n",
            "Epoch:15\t TRAIN\t Correct Prediction:47825/48000 \t Loss:7.998098067881074\n",
            "Epoch:15\t VAL\t Correct Prediction:11742/12000 \t Loss:11.784742280840874\n",
            "\n",
            "====================\n",
            "Epoch:16\t TRAIN\t Correct Prediction:47810/48000 \t Loss:10.101193967711879\n",
            "Epoch:16\t VAL\t Correct Prediction:11745/12000 \t Loss:11.121172787752585\n",
            "\n",
            "====================\n",
            "Epoch:17\t TRAIN\t Correct Prediction:47814/48000 \t Loss:9.536629651294788\n",
            "Epoch:17\t VAL\t Correct Prediction:11719/12000 \t Loss:12.589453288470395\n",
            "\n",
            "====================\n",
            "Epoch:18\t TRAIN\t Correct Prediction:47808/48000 \t Loss:8.919513753586216\n",
            "Epoch:18\t VAL\t Correct Prediction:11755/12000 \t Loss:12.999068298697239\n",
            "\n",
            "====================\n",
            "Epoch:19\t TRAIN\t Correct Prediction:47797/48000 \t Loss:9.410873740678653\n",
            "Epoch:19\t VAL\t Correct Prediction:11753/12000 \t Loss:10.742165736155584\n",
            "\n",
            "====================\n",
            "Training Accuracy: 99.62%\n",
            "Validation Accuracy: 98.11%\n"
          ],
          "name": "stdout"
        }
      ]
    },
    {
      "cell_type": "code",
      "metadata": {
        "colab": {
          "base_uri": "https://localhost:8080/"
        },
        "id": "itEFHxM3xSxb",
        "outputId": "f20c1de0-cee2-40ab-f6e3-c7e87e342c7f"
      },
      "source": [
        "from google.colab import drive\n",
        "drive.mount('/content/drive')"
      ],
      "execution_count": 12,
      "outputs": [
        {
          "output_type": "stream",
          "text": [
            "Mounted at /content/drive\n"
          ],
          "name": "stdout"
        }
      ]
    },
    {
      "cell_type": "markdown",
      "metadata": {
        "id": "HcwpGXOjnawk"
      },
      "source": [
        "## Model Evaluation"
      ]
    },
    {
      "cell_type": "code",
      "metadata": {
        "id": "qXulYOfxx2y4",
        "colab": {
          "base_uri": "https://localhost:8080/",
          "height": 470
        },
        "outputId": "6460d69d-713f-4526-ab5e-aed27ada7ddd"
      },
      "source": [
        "# Track & Plot Losses\n",
        "\n",
        "import matplotlib.pyplot as plt\n",
        "plt.figure(figsize=(15,8))\n",
        "plt.plot(train_losses, color=\"red\", label=\"Train Loss\")\n",
        "plt.plot(val_losses, color=\"green\", label=\"Test Loss\")\n",
        "plt.legend()\n",
        "plt.show()"
      ],
      "execution_count": 13,
      "outputs": [
        {
          "output_type": "display_data",
          "data": {
            "image/png": "[encoded data removed]",
            "text/plain": [
              "<Figure size 1080x576 with 1 Axes>"
            ]
          },
          "metadata": {
            "tags": [],
            "needs_background": "light"
          }
        }
      ]
    },
    {
      "cell_type": "code",
      "metadata": {
        "id": "xStxRMpA4qmn",
        "colab": {
          "base_uri": "https://localhost:8080/"
        },
        "outputId": "76fa125d-3239-40b5-dbc4-4c2df504b0e4"
      },
      "source": [
        "# Track on Test Set\n",
        "\n",
        "model.eval()\n",
        "test_loss = 0\n",
        "test_correct = 0\n",
        "for images, labels in test_loader:\n",
        "    images = images.to(device)\n",
        "    labels = labels.to(device)\n",
        "    #   one_hot_labels = F.one_hot(labels, num_classes=10)\n",
        "\n",
        "    random_num = torch.randint(low=0, high=9, size=(batch_size,))\n",
        "    random_num = random_num.to(device)\n",
        "    random_inp = F.one_hot(random_num, num_classes=10)\n",
        "    random_inp = random_inp.type(torch.float32)\n",
        "    sum_labels = labels + random_num  \n",
        "    #   one_hot_random = F.one_hot(random_labels, num_classes=18)\n",
        "    \n",
        "    random_inp = random_inp.to(device)\n",
        "\n",
        "    with torch.no_grad():\n",
        "        preds = model(images, random_inp)                    \n",
        "        test_correct += class_predicted(preds, labels, sum_labels)\n",
        "\n",
        "print(f'{\"TEST\"}\\t Correct Predictions:{test_correct}/{int(len(test_set))}\\n')\n",
        "print(f\"Accuracy: {test_correct/int(len(test_set))*100}%\")\n",
        "print(\"==\"*10)\n"
      ],
      "execution_count": 14,
      "outputs": [
        {
          "output_type": "stream",
          "text": [
            "TEST\t Correct Predictions:9888/10000\n",
            "\n",
            "Accuracy: 98.88%\n",
            "====================\n"
          ],
          "name": "stdout"
        }
      ]
    },
    {
      "cell_type": "code",
      "metadata": {
        "id": "hjm9yhOOcDRq"
      },
      "source": [
        "import torch.onnx"
      ],
      "execution_count": 15,
      "outputs": []
    },
    {
      "cell_type": "code",
      "metadata": {
        "id": "gmRyfiEft6NJ",
        "colab": {
          "base_uri": "https://localhost:8080/"
        },
        "outputId": "eff90300-0b6c-4c51-a60a-c31084a98b45"
      },
      "source": [
        "# Single Item Inference/Prediction\n",
        "\n",
        "def test_one_item():\n",
        "    batch = next(iter(test_loader))\n",
        "    images,label = batch\n",
        "    images = images.to(device)[0].unsqueeze(dim=0)\n",
        "    label = label.to(device)[0].unsqueeze(dim=0)\n",
        "\n",
        "    random_num = torch.randint(low=0, high=9, size=(1,))\n",
        "    random_num = random_num.to(device)\n",
        "    random_inp = F.one_hot(random_num, num_classes=10)\n",
        "    random_inp = random_inp.type(torch.float32)\n",
        "    sum_labels = label + random_num \n",
        "    print(f\"MNIST number: {label.item()}\")\n",
        "    print(f\"Random number: {random_num.item()}\")\n",
        "    print(f\"Sum: {sum_labels.item()}\")\n",
        "\n",
        "    print(\"=\"*10)\n",
        "    global model\n",
        "    with torch.no_grad():\n",
        "        model = model.eval()\n",
        "        preds = model(images, random_inp)\n",
        "        num, sum = preds[:,:10], preds[:, 10:]\n",
        "    print(f\"Predicted Number {torch.argmax(num)}\")\n",
        "    print(f\"Predicted Sum {torch.argmax(sum)}\")\n",
        "    torch.onnx.export(model,               # model being run\n",
        "                  (images, random_inp),                         # model input (or a tuple for multiple inputs)\n",
        "                  \"model.onnx\",   # where to save the model (can be a file or file-like object)\n",
        "                  export_params=True,        # store the trained parameter weights inside the model file\n",
        "                  opset_version=10,          # the ONNX version to export the model to\n",
        "                  do_constant_folding=True,  # whether to execute constant folding for optimization\n",
        "                  input_names = ['input'],   # the model's input names\n",
        "                  output_names = ['output'], # the model's output names\n",
        "                  dynamic_axes={'input' : {0 : 'batch_size'},    # variable length axes\n",
        "                                'output' : {0 : 'batch_size'}})\n",
        "    \n",
        "    # print(f'Test Prdiction:{class_predicted(preds,label)}')\n",
        "\n",
        "# Single Prediction/Inference\n",
        "test_one_item()"
      ],
      "execution_count": 16,
      "outputs": [
        {
          "output_type": "stream",
          "text": [
            "MNIST number: 7\n",
            "Random number: 8\n",
            "Sum: 15\n",
            "==========\n",
            "Predicted Number 7\n",
            "Predicted Sum 15\n"
          ],
          "name": "stdout"
        }
      ]
    },
    {
      "cell_type": "code",
      "metadata": {
        "id": "uYYvm242d7Fl"
      },
      "source": [
        ""
      ],
      "execution_count": null,
      "outputs": []
    }
  ]
}