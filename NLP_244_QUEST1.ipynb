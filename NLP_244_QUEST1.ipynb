{
  "nbformat": 4,
  "nbformat_minor": 0,
  "metadata": {
    "colab": {
      "private_outputs": true,
      "provenance": [],
      "authorship_tag": "ABX9TyPxFC5V4ZCFgip8BV7nylrr",
      "include_colab_link": true
    },
    "kernelspec": {
      "name": "python3",
      "display_name": "Python 3"
    },
    "language_info": {
      "name": "python"
    }
  },
  "cells": [
    {
      "cell_type": "markdown",
      "metadata": {
        "id": "view-in-github",
        "colab_type": "text"
      },
      "source": [
        "<a href=\"https://colab.research.google.com/github/sreelathagh/EVA6/blob/main/NLP_244_QUEST1.ipynb\" target=\"_parent\"><img src=\"https://colab.research.google.com/assets/colab-badge.svg\" alt=\"Open In Colab\"/></a>"
      ]
    },
    {
      "cell_type": "code",
      "execution_count": null,
      "metadata": {
        "id": "E1CYyJ-fX843"
      },
      "outputs": [],
      "source": [
        "!git clone https://github.com/NLP244/NLP244-quest1"
      ]
    },
    {
      "cell_type": "code",
      "source": [
        "cd /content/NLP244-quest1\n"
      ],
      "metadata": {
        "id": "XE5DeZcR5QiB"
      },
      "execution_count": null,
      "outputs": []
    },
    {
      "cell_type": "code",
      "source": [
        "pwd"
      ],
      "metadata": {
        "id": "XZl6iOxg6S8n"
      },
      "execution_count": null,
      "outputs": []
    },
    {
      "cell_type": "code",
      "source": [
        "!pip install -r requirements.txt"
      ],
      "metadata": {
        "id": "Nc-tD5nC6VOu"
      },
      "execution_count": null,
      "outputs": []
    },
    {
      "cell_type": "code",
      "source": [
        " cd /content/NLP244-quest1/data"
      ],
      "metadata": {
        "id": "lhP_wZIt7AEk"
      },
      "execution_count": null,
      "outputs": []
    },
    {
      "cell_type": "code",
      "source": [
        "!python prepare.py"
      ],
      "metadata": {
        "id": "4If_Qjz67DhN"
      },
      "execution_count": null,
      "outputs": []
    },
    {
      "cell_type": "code",
      "source": [
        "ls ./"
      ],
      "metadata": {
        "id": "8tGuTlKY7KLX"
      },
      "execution_count": null,
      "outputs": []
    }
  ]
}